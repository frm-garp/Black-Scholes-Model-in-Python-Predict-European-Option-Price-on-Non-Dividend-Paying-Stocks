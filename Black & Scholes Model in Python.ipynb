{
 "cells": [
  {
   "cell_type": "code",
   "execution_count": 1,
   "metadata": {},
   "outputs": [],
   "source": [
    "import numpy as np\n",
    "import scipy.stats as si"
   ]
  },
  {
   "cell_type": "code",
   "execution_count": 2,
   "metadata": {},
   "outputs": [],
   "source": [
    "def PolanitzerNormsdist(x):\n",
    "    PolanitzerNormsdist = si.norm.cdf(x,0.0,1.0)\n",
    "    return (PolanitzerNormsdist)"
   ]
  },
  {
   "cell_type": "code",
   "execution_count": 3,
   "metadata": {},
   "outputs": [
    {
     "data": {
      "text/plain": [
       "0.9500150944608786"
      ]
     },
     "execution_count": 3,
     "metadata": {},
     "output_type": "execute_result"
    }
   ],
   "source": [
    "PolanitzerNormsdist(1.645)"
   ]
  },
  {
   "cell_type": "code",
   "execution_count": 4,
   "metadata": {},
   "outputs": [],
   "source": [
    "def PolanitzerBlackScholesCall(UnderlyingAssetPrice, StrikePrice, Maturity, RiskFreeRate, Volatility):\n",
    "    d1 = (np.log(UnderlyingAssetPrice/StrikePrice)+(RiskFreeRate+0.5*Volatility**2)*Maturity)/(Volatility*np.sqrt(Maturity))\n",
    "    d2 = (np.log(UnderlyingAssetPrice/StrikePrice)+(RiskFreeRate-0.5*Volatility**2)*Maturity)/(Volatility*np.sqrt(Maturity))\n",
    "    PolanitzerBlackScholesCall = UnderlyingAssetPrice*PolanitzerNormsdist(d1)-StrikePrice*np.exp(-RiskFreeRate*Maturity)*PolanitzerNormsdist(d2)\n",
    "    return(PolanitzerBlackScholesCall)"
   ]
  },
  {
   "cell_type": "code",
   "execution_count": 5,
   "metadata": {},
   "outputs": [],
   "source": [
    "# Assumptions:\n",
    "UnderlyingAssetPrice = 0.949\n",
    "StrikePrice = 0.716\n",
    "Maturity = 4.83\n",
    "RiskFreeRate = 0.0178\n",
    "Volatility = 1.0368"
   ]
  },
  {
   "cell_type": "code",
   "execution_count": 6,
   "metadata": {},
   "outputs": [
    {
     "name": "stdout",
     "output_type": "stream",
     "text": [
      "The fair value of a single option based on the Black & Scholes Model is: $0.749\n"
     ]
    }
   ],
   "source": [
    "print(\"The fair value of a single option based on the Black & Scholes Model is: ${:.3}\".format( (PolanitzerBlackScholesCall(UnderlyingAssetPrice, StrikePrice, Maturity, RiskFreeRate, Volatility))) )"
   ]
  },
  {
   "cell_type": "code",
   "execution_count": 7,
   "metadata": {},
   "outputs": [
    {
     "name": "stdout",
     "output_type": "stream",
     "text": [
      "The fair value of 6,280,783 optins as of the valuation date is $4,707,192\n"
     ]
    }
   ],
   "source": [
    "Quantity = 6280783\n",
    "SingleOptionValue =  PolanitzerBlackScholesCall(UnderlyingAssetPrice, StrikePrice, Maturity, RiskFreeRate, Volatility)\n",
    "OptionValuation = SingleOptionValue*Quantity\n",
    "print(\"The fair value of {:,}\".format(Quantity),\"optins as of the valuation date is ${:,}\".format(int(OptionValuation)))"
   ]
  },
  {
   "cell_type": "code",
   "execution_count": 8,
   "metadata": {},
   "outputs": [
    {
     "name": "stdout",
     "output_type": "stream",
     "text": [
      "The fair value of 6,280,783 optins as of the valuation date is NIS 15,199,523\n"
     ]
    }
   ],
   "source": [
    "ExchangeRate = 3.229\n",
    "OptionValuation1 = OptionValuation*ExchangeRate\n",
    "print(\"The fair value of {:,}\".format(Quantity),\"optins as of the valuation date is NIS {:,}\".format(int(OptionValuation1)))"
   ]
  }
 ],
 "metadata": {
  "kernelspec": {
   "display_name": "Python 3",
   "language": "python",
   "name": "python3"
  },
  "language_info": {
   "codemirror_mode": {
    "name": "ipython",
    "version": 3
   },
   "file_extension": ".py",
   "mimetype": "text/x-python",
   "name": "python",
   "nbconvert_exporter": "python",
   "pygments_lexer": "ipython3",
   "version": "3.7.4"
  }
 },
 "nbformat": 4,
 "nbformat_minor": 4
}
